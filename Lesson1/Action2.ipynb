{
 "cells": [
  {
   "cell_type": "code",
   "execution_count": 1,
   "metadata": {},
   "outputs": [
    {
     "name": "stdout",
     "output_type": "stream",
     "text": [
      "语文平均成绩： 86.2\n",
      "数学平均成绩： 81.0\n",
      "英语平均成绩： 76.6\n",
      "语文最小成绩： 68\n",
      "数学最小成绩： 65\n",
      "英语最小成绩： 30\n",
      "语文最大成绩： 98\n",
      "数学最大成绩： 90\n",
      "英语最大成绩： 98\n",
      "语文成绩标准差： 10.961751684835777\n",
      "语文成绩方差： 120.16\n",
      "数学成绩标准差： 9.338094023943002\n",
      "数学成绩方差： 87.2\n",
      "英语成绩标准差： 24.24541193710678\n",
      "英语成绩方差： 587.8399999999999\n",
      "总成绩排序： [163 255 260 269 272]\n",
      "三科成绩之和降序排序：\n",
      "[(b'liubei', 98, 86, 88), (b'guanyu', 95, 76, 98), (b'xuchu', 80, 90, 90), (b'dianwei', 90, 88, 77), (b'zhangfei', 68, 65, 30)]\n"
     ]
    }
   ],
   "source": [
    "import numpy as np\n",
    "#定义一个人物类\n",
    "persontype=np.dtype({\n",
    "    'names':['name','chinese','math','english'],\n",
    "    'formats':['S32','i','i','i']\n",
    "    })\n",
    "#加载数据\n",
    "peoples=np.array([(\"zhangfei\",68,65,30),(\"guanyu\",95,76,98),\n",
    "                  (\"liubei\",98,86,88),(\"dianwei\",90,88,77),\n",
    "                  (\"xuchu\",80,90,90)],dtype=persontype)\n",
    "#统计单科成绩\n",
    "chineses=peoples[:]['chinese']\n",
    "maths=peoples[:]['math']\n",
    "englishs=peoples[:]['english']\n",
    "total=peoples[:]['chinese']+peoples[:]['math']+peoples[:]['english']\n",
    "#平均成绩\n",
    "print('语文平均成绩：',np.mean(chineses))\n",
    "print('数学平均成绩：',np.mean(maths))\n",
    "print('英语平均成绩：',np.mean(englishs))\n",
    "#最小成绩和最大成绩\n",
    "print('语文最小成绩：',np.amin(chineses))\n",
    "print('数学最小成绩：',np.amin(maths))\n",
    "print('英语最小成绩：',np.amin(englishs))\n",
    "print('语文最大成绩：',np.amax(chineses))\n",
    "print('数学最大成绩：',np.amax(maths))\n",
    "print('英语最大成绩：',np.amax(englishs))\n",
    "#计算方差和标准差\n",
    "stdchinese=np.array(chineses)\n",
    "print('语文成绩标准差：',np.std(stdchinese))\n",
    "print('语文成绩方差：',np.var(stdchinese))\n",
    "stdmath=np.array(maths)\n",
    "print('数学成绩标准差：',np.std(stdmath))\n",
    "print('数学成绩方差：',np.var(stdmath))\n",
    "stdenglish=np.array(englishs)\n",
    "print('英语成绩标准差：',np.std(stdenglish))\n",
    "print('英语成绩方差：',np.var(stdenglish))\n",
    "#排序\n",
    "#总成绩排序\n",
    "print('总成绩排序：',np.sort(total))\n",
    "#按照三科成绩之和降序排列    \n",
    "#用sorted函数进行排序\n",
    "print('三科成绩之和降序排序：')\n",
    "ranking=sorted(peoples,key=lambda x:x[1]+x[2]+x[3],reverse=True)\n",
    "print(ranking)"
   ]
  },
  {
   "cell_type": "code",
   "execution_count": null,
   "metadata": {},
   "outputs": [],
   "source": []
  }
 ],
 "metadata": {
  "kernelspec": {
   "display_name": "Python 3",
   "language": "python",
   "name": "python3"
  },
  "language_info": {
   "codemirror_mode": {
    "name": "ipython",
    "version": 3
   },
   "file_extension": ".py",
   "mimetype": "text/x-python",
   "name": "python",
   "nbconvert_exporter": "python",
   "pygments_lexer": "ipython3",
   "version": "3.7.6"
  }
 },
 "nbformat": 4,
 "nbformat_minor": 4
}
